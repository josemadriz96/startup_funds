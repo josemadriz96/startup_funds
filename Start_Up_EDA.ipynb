{
 "cells": [
  {
   "cell_type": "markdown",
   "metadata": {},
   "source": [
    "# StartUp Funds EDA \n",
    "\n",
    "Welcome to the Python portion of my master's final project. In this exercise, we'll conduct exploratory data analysis on startup acquisitions and funding rounds using the \"funds.csv\" and \"funding_rounds.csv\" datasets. \n",
    "\n",
    "With 11 sections to tackle, each carrying equal weight, our goal is to create an executable Python script accompanied by thorough documentation. Through this analysis, we aim to uncover insights into the global startup landscape, identifying commonalities and trends. Let's get started!\n"
   ]
  },
  {
   "cell_type": "code",
   "execution_count": 1,
   "metadata": {},
   "outputs": [],
   "source": [
    "#Importing Pandas\n",
    "import pandas as pd"
   ]
  },
  {
   "cell_type": "markdown",
   "metadata": {},
   "source": [
    "### 1. Convert the files funds.csv and funding_rounds.csv into pandas dataframes."
   ]
  },
  {
   "cell_type": "code",
   "execution_count": 2,
   "metadata": {},
   "outputs": [
    {
     "name": "stdout",
     "output_type": "stream",
     "text": [
      "<class 'pandas.core.frame.DataFrame'>\n",
      "<class 'pandas.core.frame.DataFrame'>\n"
     ]
    }
   ],
   "source": [
    "funds_1 = pd.read_csv('funds.csv') \n",
    "\n",
    "funds_2 = pd.read_csv('funding_rounds.csv')\n",
    "\n",
    "print(type(funds_1)) #validating type as dataframe \n",
    "print(type(funds_2)) #validating type as dataframe"
   ]
  },
  {
   "cell_type": "markdown",
   "metadata": {},
   "source": [
    "### 2. Find a common element in both dataframes and merge them into one."
   ]
  },
  {
   "cell_type": "code",
   "execution_count": 3,
   "metadata": {},
   "outputs": [
    {
     "name": "stdout",
     "output_type": "stream",
     "text": [
      "        id  fund_id object_id                        name   funded_at  \\\n",
      "0        1        1     f:371                 Second Fund  2008-12-16   \n",
      "1        4        4      f:17  Sequoia Israel Fourth Fund  2008-12-17   \n",
      "2        5        5     f:951                  Tenth fund  2008-08-11   \n",
      "3        6        6     f:192           New funds acquire         NaN   \n",
      "4        7        7     f:519                  Third fund  2008-05-20   \n",
      "...    ...      ...       ...                         ...         ...   \n",
      "1559  1697     1697     f:101                      Fund V  2013-12-11   \n",
      "1560  1698     1698    f:7331   JANVEST Technologies LP I  2013-03-19   \n",
      "1561  1699     1699    f:7791                     Fund II  2013-12-11   \n",
      "1562  1700     1700   f:15091                      Fund I  2013-12-11   \n",
      "1563  1701     1701    f:5920        Rochester Angel Fund  2013-12-12   \n",
      "\n",
      "      raised_amount raised_currency_code  \\\n",
      "0       300000000.0                  USD   \n",
      "1       200750000.0                  USD   \n",
      "2       650000000.0                  USD   \n",
      "3       625000000.0                  USD   \n",
      "4       200000000.0                  USD   \n",
      "...             ...                  ...   \n",
      "1559    150000000.0                  USD   \n",
      "1560            5.0                  USD   \n",
      "1561      5000000.0                  USD   \n",
      "1562      1100000.0                  USD   \n",
      "1563      2300000.0                  USD   \n",
      "\n",
      "                                             source_url  \\\n",
      "0     http://www.pehub.com/26194/dfj-dragon-raising-...   \n",
      "1     http://www.pehub.com/26725/sequoia-israel-rais...   \n",
      "2     http://venturebeat.com/2008/08/11/interwest-cl...   \n",
      "3     http://venturebeat.com/2008/07/28/us-venture-p...   \n",
      "4     http://venturebeat.com/2008/05/20/disneys-stea...   \n",
      "...                                                 ...   \n",
      "1559  http://pevc.dowjones.com/article?an=DJFVW00020...   \n",
      "1560  http://www.globes.co.il/serveen/globes/docview...   \n",
      "1561  http://www.bizjournals.com/portland/blog/2013/...   \n",
      "1562  http://bizbeatblog.dallasnews.com/2013/12/dall...   \n",
      "1563     http://www.rbjdaily.com/article.asp?aID=204869   \n",
      "\n",
      "                                     source_description           created_at  \\\n",
      "0                                                 peHub  2008-12-17 03:07:16   \n",
      "1                     Sequoia Israel Raises Fourth Fund  2008-12-18 22:04:42   \n",
      "2                                          Venture Beat  2008-12-31 09:47:51   \n",
      "3     U.S. Venture Partners raises $625M fund for ne...  2009-01-01 18:13:44   \n",
      "4                                          Venture Beat  2009-01-03 09:51:58   \n",
      "...                                                 ...                  ...   \n",
      "1559  BlueRun Raising $150M Fund V Aimed at U.S. Aft...  2013-12-11 12:57:22   \n",
      "1560  JANVEST Technologies raises $5m Israel Angel fund  2013-12-11 21:32:25   \n",
      "1561  Portland Seed Fund ready to start investing af...  2013-12-12 07:15:56   \n",
      "1562  Dallas Angel Network closes $1 million investm...  2013-12-12 07:47:27   \n",
      "1563  Angel Network to invest $2.3 million in area b...  2013-12-12 09:42:12   \n",
      "\n",
      "               updated_at  \n",
      "0     2008-12-17 03:07:16  \n",
      "1     2008-12-18 22:04:42  \n",
      "2     2008-12-31 09:47:51  \n",
      "3     2009-01-01 18:16:27  \n",
      "4     2013-09-03 16:34:54  \n",
      "...                   ...  \n",
      "1559  2013-12-11 12:57:22  \n",
      "1560  2013-12-12 03:57:09  \n",
      "1561  2013-12-12 07:15:56  \n",
      "1562  2013-12-12 07:47:27  \n",
      "1563  2013-12-12 09:42:12  \n",
      "\n",
      "[1564 rows x 11 columns]\n"
     ]
    }
   ],
   "source": [
    "#Looking for common columns between DF in funds_1\n",
    "print(funds_1)"
   ]
  },
  {
   "cell_type": "code",
   "execution_count": 4,
   "metadata": {},
   "outputs": [
    {
     "name": "stdout",
     "output_type": "stream",
     "text": [
      "          id  funding_round_id object_id   funded_at funding_round_type  \\\n",
      "0          1                 1       c:4  2006-12-01           series-b   \n",
      "1          2                 2       c:5  2004-09-01              angel   \n",
      "2          3                 3       c:5  2005-05-01           series-a   \n",
      "3          4                 4       c:5  2006-04-01           series-b   \n",
      "4          5                 5    c:7299  2006-05-01           series-b   \n",
      "...      ...               ...       ...         ...                ...   \n",
      "52923  57948             57948  c:211890  2013-12-12           series-a   \n",
      "52924  57949             57949  c:267427  2010-02-06            venture   \n",
      "52925  57950             57950  c:261728  2010-02-06            venture   \n",
      "52926  57951             57951  c:285864  2013-12-12           series-a   \n",
      "52927  57952             57952  c:286215  2010-04-07            venture   \n",
      "\n",
      "      funding_round_code  raised_amount_usd  raised_amount  \\\n",
      "0                      b          8500000.0      8500000.0   \n",
      "1                  angel           500000.0       500000.0   \n",
      "2                      a         12700000.0     12700000.0   \n",
      "3                      b         27500000.0     27500000.0   \n",
      "4                      b         10500000.0     10500000.0   \n",
      "...                  ...                ...            ...   \n",
      "52923                  a          3000000.0      3000000.0   \n",
      "52924            partial           570000.0       570000.0   \n",
      "52925       unattributed          2184100.0      2184100.0   \n",
      "52926                  a           790783.0       790783.0   \n",
      "52927            partial           271250.0       271250.0   \n",
      "\n",
      "      raised_currency_code  pre_money_valuation_usd  ...  \\\n",
      "0                      USD                      0.0  ...   \n",
      "1                      USD                      0.0  ...   \n",
      "2                      USD              115000000.0  ...   \n",
      "3                      USD              525000000.0  ...   \n",
      "4                      USD                      0.0  ...   \n",
      "...                    ...                      ...  ...   \n",
      "52923                  USD                      0.0  ...   \n",
      "52924                  USD                      0.0  ...   \n",
      "52925                  USD                      0.0  ...   \n",
      "52926                  USD                      0.0  ...   \n",
      "52927                  USD                      0.0  ...   \n",
      "\n",
      "       post_money_valuation post_money_currency_code  participants  \\\n",
      "0                       0.0                      NaN             2   \n",
      "1                       0.0                      USD             2   \n",
      "2                       0.0                      USD             3   \n",
      "3                       0.0                      USD             4   \n",
      "4                       0.0                      NaN             2   \n",
      "...                     ...                      ...           ...   \n",
      "52923                   0.0                      USD             1   \n",
      "52924                   0.0                      USD             0   \n",
      "52925                   0.0                      USD             0   \n",
      "52926                   0.0                      USD             0   \n",
      "52927                   0.0                      USD             0   \n",
      "\n",
      "       is_first_round is_last_round  \\\n",
      "0                   0             0   \n",
      "1                   0             1   \n",
      "2                   0             0   \n",
      "3                   0             0   \n",
      "4                   0             0   \n",
      "...               ...           ...   \n",
      "52923               1             1   \n",
      "52924               0             1   \n",
      "52925               0             1   \n",
      "52926               1             1   \n",
      "52927               1             1   \n",
      "\n",
      "                                              source_url  \\\n",
      "0      http://www.marketingvox.com/archives/2006/12/2...   \n",
      "1                                                    NaN   \n",
      "2      http://www.techcrunch.com/2007/11/02/jim-breye...   \n",
      "3       http://www.facebook.com/press/info.php?factsheet   \n",
      "4      http://www.techcrunch.com/2006/05/14/photobuck...   \n",
      "...                                                  ...   \n",
      "52923  http://techcrunch.com/2013/12/12/bitstrips-ser...   \n",
      "52924  http://www.sec.gov/Archives/edgar/data/1434188...   \n",
      "52925  http://www.sec.gov/Archives/edgar/data/1335158...   \n",
      "52926  http://www.startupticker.ch/en/news/december-2...   \n",
      "52927  http://www.sec.gov/Archives/edgar/data/1488680...   \n",
      "\n",
      "                                      source_description        created_by  \\\n",
      "0                                                    NaN  initial-importer   \n",
      "1                                                    NaN  initial-importer   \n",
      "2      Jim Breyer: Extra $500 Million Round For Faceb...  initial-importer   \n",
      "3                                       Facebook Funding  initial-importer   \n",
      "4        PhotoBucket Closes $10.5M From Trinity Ventures  initial-importer   \n",
      "...                                                  ...               ...   \n",
      "52923  Bitstrips Confirms $3M Series A From Horizons,...          amit2013   \n",
      "52924                                                SEC       santosh2013   \n",
      "52925                                                SEC       santosh2013   \n",
      "52926       UrbanFarmers closes interim-investment round          amit2013   \n",
      "52927                                                SEC       prasant2013   \n",
      "\n",
      "                created_at           updated_at  \n",
      "0      2007-07-04 04:52:57  2008-02-27 23:14:29  \n",
      "1      2007-05-27 06:08:18  2013-06-28 20:07:23  \n",
      "2      2007-05-27 06:09:10  2013-06-28 20:07:23  \n",
      "3      2007-05-27 06:09:36  2013-06-28 20:07:24  \n",
      "4      2007-05-29 11:05:59  2008-04-16 17:09:12  \n",
      "...                    ...                  ...  \n",
      "52923  2013-12-12 14:12:05  2013-12-12 14:12:05  \n",
      "52924  2013-12-12 14:13:11  2013-12-12 14:13:11  \n",
      "52925  2013-12-12 14:19:35  2013-12-12 14:19:35  \n",
      "52926  2013-12-12 14:23:49  2013-12-12 14:23:49  \n",
      "52927  2013-12-12 14:27:53  2013-12-12 14:27:53  \n",
      "\n",
      "[52928 rows x 23 columns]\n"
     ]
    }
   ],
   "source": [
    "#Looking for common columns between DF in funds_2\n",
    "print(funds_2)"
   ]
  },
  {
   "cell_type": "code",
   "execution_count": 5,
   "metadata": {},
   "outputs": [
    {
     "name": "stdout",
     "output_type": "stream",
     "text": [
      "          id object_id   funded_at  raised_amount raised_currency_code  \\\n",
      "0          1     f:371  2008-12-16    300000000.0                  USD   \n",
      "1          4      f:17  2008-12-17    200750000.0                  USD   \n",
      "2          5     f:951  2008-08-11    650000000.0                  USD   \n",
      "3          6     f:192         NaN    625000000.0                  USD   \n",
      "4          7     f:519  2008-05-20    200000000.0                  USD   \n",
      "...      ...       ...         ...            ...                  ...   \n",
      "54487  57948  c:211890  2013-12-12      3000000.0                  USD   \n",
      "54488  57949  c:267427  2010-02-06       570000.0                  USD   \n",
      "54489  57950  c:261728  2010-02-06      2184100.0                  USD   \n",
      "54490  57951  c:285864  2013-12-12       790783.0                  USD   \n",
      "54491  57952  c:286215  2010-04-07       271250.0                  USD   \n",
      "\n",
      "                                              source_url  \\\n",
      "0      http://www.pehub.com/26194/dfj-dragon-raising-...   \n",
      "1      http://www.pehub.com/26725/sequoia-israel-rais...   \n",
      "2      http://venturebeat.com/2008/08/11/interwest-cl...   \n",
      "3      http://venturebeat.com/2008/07/28/us-venture-p...   \n",
      "4      http://venturebeat.com/2008/05/20/disneys-stea...   \n",
      "...                                                  ...   \n",
      "54487  http://techcrunch.com/2013/12/12/bitstrips-ser...   \n",
      "54488  http://www.sec.gov/Archives/edgar/data/1434188...   \n",
      "54489  http://www.sec.gov/Archives/edgar/data/1335158...   \n",
      "54490  http://www.startupticker.ch/en/news/december-2...   \n",
      "54491  http://www.sec.gov/Archives/edgar/data/1488680...   \n",
      "\n",
      "                                      source_description           created_at  \\\n",
      "0                                                  peHub  2008-12-17 03:07:16   \n",
      "1                      Sequoia Israel Raises Fourth Fund  2008-12-18 22:04:42   \n",
      "2                                           Venture Beat  2008-12-31 09:47:51   \n",
      "3      U.S. Venture Partners raises $625M fund for ne...  2009-01-01 18:13:44   \n",
      "4                                           Venture Beat  2009-01-03 09:51:58   \n",
      "...                                                  ...                  ...   \n",
      "54487  Bitstrips Confirms $3M Series A From Horizons,...  2013-12-12 14:12:05   \n",
      "54488                                                SEC  2013-12-12 14:13:11   \n",
      "54489                                                SEC  2013-12-12 14:19:35   \n",
      "54490       UrbanFarmers closes interim-investment round  2013-12-12 14:23:49   \n",
      "54491                                                SEC  2013-12-12 14:27:53   \n",
      "\n",
      "                updated_at  \n",
      "0      2008-12-17 03:07:16  \n",
      "1      2008-12-18 22:04:42  \n",
      "2      2008-12-31 09:47:51  \n",
      "3      2009-01-01 18:16:27  \n",
      "4      2013-09-03 16:34:54  \n",
      "...                    ...  \n",
      "54487  2013-12-12 14:12:05  \n",
      "54488  2013-12-12 14:13:11  \n",
      "54489  2013-12-12 14:19:35  \n",
      "54490  2013-12-12 14:23:49  \n",
      "54491  2013-12-12 14:27:53  \n",
      "\n",
      "[54492 rows x 9 columns]\n"
     ]
    }
   ],
   "source": [
    "#Merging DFs\n",
    "funds_inner = pd.concat([funds_1,funds_2],ignore_index=True,join='inner') \n",
    "\n",
    "#Este método es más eficiente dado que permite unir todos los valores que estén en común\n",
    "print(funds_inner)"
   ]
  },
  {
   "cell_type": "markdown",
   "metadata": {},
   "source": [
    "### 3. Remove the columns 'id', 'source_url', 'source_description', 'updated_at'."
   ]
  },
  {
   "cell_type": "code",
   "execution_count": 6,
   "metadata": {},
   "outputs": [
    {
     "name": "stdout",
     "output_type": "stream",
     "text": [
      "  object_id   funded_at  raised_amount raised_currency_code  \\\n",
      "0     f:371  2008-12-16    300000000.0                  USD   \n",
      "1      f:17  2008-12-17    200750000.0                  USD   \n",
      "2     f:951  2008-08-11    650000000.0                  USD   \n",
      "3     f:192         NaN    625000000.0                  USD   \n",
      "4     f:519  2008-05-20    200000000.0                  USD   \n",
      "\n",
      "            created_at  \n",
      "0  2008-12-17 03:07:16  \n",
      "1  2008-12-18 22:04:42  \n",
      "2  2008-12-31 09:47:51  \n",
      "3  2009-01-01 18:13:44  \n",
      "4  2009-01-03 09:51:58  \n"
     ]
    }
   ],
   "source": [
    "funds_inner.drop(['id', 'source_url', 'source_description', 'updated_at'], axis=1, inplace=True)\n",
    "print(funds_inner.head())"
   ]
  },
  {
   "cell_type": "markdown",
   "metadata": {},
   "source": [
    "### 4. Display the number of null values in each column of the dataframe and the percentage they represent within each column."
   ]
  },
  {
   "cell_type": "code",
   "execution_count": 7,
   "metadata": {},
   "outputs": [
    {
     "name": "stdout",
     "output_type": "stream",
     "text": [
      "Total de nulos por columna\n",
      "object_id                  0\n",
      "funded_at                363\n",
      "raised_amount              0\n",
      "raised_currency_code    3066\n",
      "created_at                 0\n",
      "dtype: int64\n",
      "****************************\n",
      "% Nulos por columna\n",
      "object_id               0.000000\n",
      "funded_at               0.666153\n",
      "raised_amount           0.000000\n",
      "raised_currency_code    5.626514\n",
      "created_at              0.000000\n",
      "dtype: float64\n"
     ]
    }
   ],
   "source": [
    "print(\"Total de nulos por columna\")\n",
    "print(funds_inner.isnull().sum())\n",
    "print(\"****************************\")\n",
    "print(\"% Nulos por columna\")\n",
    "print(funds_inner.isnull().sum()/len(funds_inner)*100)"
   ]
  },
  {
   "cell_type": "markdown",
   "metadata": {},
   "source": [
    "### 5. Modify all null values in 'raised_currency_dode' to 'USD'."
   ]
  },
  {
   "cell_type": "code",
   "execution_count": 8,
   "metadata": {},
   "outputs": [
    {
     "name": "stderr",
     "output_type": "stream",
     "text": [
      "C:\\Users\\josem\\AppData\\Local\\Temp\\ipykernel_29108\\3571794567.py:2: FutureWarning: A value is trying to be set on a copy of a DataFrame or Series through chained assignment using an inplace method.\n",
      "The behavior will change in pandas 3.0. This inplace method will never work because the intermediate object on which we are setting values always behaves as a copy.\n",
      "\n",
      "For example, when doing 'df[col].method(value, inplace=True)', try using 'df.method({col: value}, inplace=True)' or df[col] = df[col].method(value) instead, to perform the operation inplace on the original object.\n",
      "\n",
      "\n",
      "  funds_inner[\"raised_currency_code\"].fillna(\"USD\", inplace=True)\n"
     ]
    }
   ],
   "source": [
    "funds_inner[\"raised_currency_code\"].fillna(\"USD\", inplace=True)"
   ]
  },
  {
   "cell_type": "code",
   "execution_count": 9,
   "metadata": {},
   "outputs": [
    {
     "data": {
      "text/plain": [
       "object_id                 0\n",
       "funded_at               363\n",
       "raised_amount             0\n",
       "raised_currency_code      0\n",
       "created_at                0\n",
       "dtype: int64"
      ]
     },
     "execution_count": 9,
     "metadata": {},
     "output_type": "execute_result"
    }
   ],
   "source": [
    "funds_inner.isnull().sum()"
   ]
  },
  {
   "cell_type": "markdown",
   "metadata": {},
   "source": [
    "### 6. Remove all remaining null values from the dataset."
   ]
  },
  {
   "cell_type": "code",
   "execution_count": 10,
   "metadata": {},
   "outputs": [],
   "source": [
    "#Drop Nulls\n",
    "funds_inner.dropna(inplace=True)"
   ]
  },
  {
   "cell_type": "code",
   "execution_count": 11,
   "metadata": {},
   "outputs": [
    {
     "data": {
      "text/plain": [
       "object_id               0\n",
       "funded_at               0\n",
       "raised_amount           0\n",
       "raised_currency_code    0\n",
       "created_at              0\n",
       "dtype: int64"
      ]
     },
     "execution_count": 11,
     "metadata": {},
     "output_type": "execute_result"
    }
   ],
   "source": [
    "funds_inner.isnull().sum()"
   ]
  },
  {
   "cell_type": "markdown",
   "metadata": {},
   "source": [
    "### 7. Display the percentage of different values in 'raised_currency_dode'."
   ]
  },
  {
   "cell_type": "code",
   "execution_count": 18,
   "metadata": {},
   "outputs": [
    {
     "data": {
      "text/plain": [
       "raised_currency_code\n",
       "USD    0.918805\n",
       "EUR    0.047221\n",
       "GBP    0.025328\n",
       "CAD    0.005339\n",
       "SEK    0.001496\n",
       "JPY    0.001312\n",
       "AUD    0.000443\n",
       "NIS    0.000055\n",
       "Name: proportion, dtype: float64"
      ]
     },
     "execution_count": 18,
     "metadata": {},
     "output_type": "execute_result"
    }
   ],
   "source": [
    "funds_inner['raised_currency_code'].value_counts(normalize=True)"
   ]
  },
  {
   "cell_type": "markdown",
   "metadata": {},
   "source": [
    "### 8. Create a subset excluding the 'USD' value and visualize it using a bar chart."
   ]
  },
  {
   "cell_type": "code",
   "execution_count": 13,
   "metadata": {},
   "outputs": [
    {
     "name": "stdout",
     "output_type": "stream",
     "text": [
      "      object_id   funded_at  raised_amount raised_currency_code  \\\n",
      "12       f:1363  2001-07-12     22500000.0                  GBP   \n",
      "13       f:1363  2008-07-19     45300000.0                  GBP   \n",
      "45         f:18  2009-03-02    350000000.0                  EUR   \n",
      "50       f:1142  2000-01-01    112000000.0                  EUR   \n",
      "51       f:1142  2008-01-01    113000000.0                  EUR   \n",
      "...         ...         ...            ...                  ...   \n",
      "54419  c:285244  2011-01-01      1615000.0                  EUR   \n",
      "54421  c:285244  2009-01-01       350000.0                  EUR   \n",
      "54434  c:286145  2013-12-12       100000.0                  GBP   \n",
      "54441  c:286151  2013-12-12      1300000.0                  GBP   \n",
      "54451   c:60389  2013-07-10            0.0                  EUR   \n",
      "\n",
      "                created_at  \n",
      "12     2009-01-13 15:42:43  \n",
      "13     2009-01-13 15:42:43  \n",
      "45     2009-03-17 20:44:22  \n",
      "50     2009-05-02 05:28:47  \n",
      "51     2009-05-02 05:29:25  \n",
      "...                    ...  \n",
      "54419  2013-12-12 10:38:45  \n",
      "54421  2013-12-12 10:41:27  \n",
      "54434  2013-12-12 11:19:51  \n",
      "54441  2013-12-12 11:30:52  \n",
      "54451  2013-12-12 12:32:53  \n",
      "\n",
      "[4395 rows x 5 columns]\n"
     ]
    }
   ],
   "source": [
    "#Subset without USD\n",
    "funds_inner_notUSD = funds_inner[funds_inner['raised_currency_code']!='USD']\n",
    "\n",
    "print(funds_inner_notUSD)"
   ]
  },
  {
   "cell_type": "code",
   "execution_count": 14,
   "metadata": {},
   "outputs": [],
   "source": [
    "#Importing Seaborn\n",
    "import seaborn as sns"
   ]
  },
  {
   "cell_type": "code",
   "execution_count": 15,
   "metadata": {},
   "outputs": [
    {
     "data": {
      "text/plain": [
       "<Axes: xlabel='raised_currency_code', ylabel='count'>"
      ]
     },
     "execution_count": 15,
     "metadata": {},
     "output_type": "execute_result"
    },
    {
     "data": {
      "image/png": "[encoded data removed]",
      "text/plain": [
       "<Figure size 640x480 with 1 Axes>"
      ]
     },
     "metadata": {},
     "output_type": "display_data"
    }
   ],
   "source": [
    "#Cat plot\n",
    "sns.countplot(data=funds_inner_notUSD, x='raised_currency_code')"
   ]
  },
  {
   "cell_type": "markdown",
   "metadata": {},
   "source": [
    "### 9. Create a new subset by filtering out all rows below 10M and visualize it using a histogram."
   ]
  },
  {
   "cell_type": "code",
   "execution_count": 19,
   "metadata": {},
   "outputs": [
    {
     "data": {
      "text/plain": [
       "<Axes: xlabel='raised_amount', ylabel='Count'>"
      ]
     },
     "execution_count": 19,
     "metadata": {},
     "output_type": "execute_result"
    },
    {
     "data": {
      "image/png": "[encoded data removed]",
      "text/plain": [
       "<Figure size 640x480 with 1 Axes>"
      ]
     },
     "metadata": {},
     "output_type": "display_data"
    }
   ],
   "source": [
    "#Subset with less 10M\n",
    "funds_less10M = funds_inner[funds_inner['raised_amount']<10000000]\n",
    "\n",
    "sns.histplot(data=funds_less10M,x='raised_amount')"
   ]
  },
  {
   "cell_type": "markdown",
   "metadata": {},
   "source": [
    "### 10. With the subset from the previous section, filter the dataset by the startup creation dates in 2000 using the **contains()** function."
   ]
  },
  {
   "cell_type": "code",
   "execution_count": 23,
   "metadata": {},
   "outputs": [
    {
     "name": "stdout",
     "output_type": "stream",
     "text": [
      "<class 'pandas.core.series.Series'>\n"
     ]
    }
   ],
   "source": [
    "#Creating a seriw with contains\n",
    "start_ups_2000 = funds_less10M['funded_at'].str.contains('2000',regex=False)\n",
    "\n",
    "print(type(start_ups_2000))"
   ]
  },
  {
   "cell_type": "code",
   "execution_count": 31,
   "metadata": {},
   "outputs": [
    {
     "name": "stdout",
     "output_type": "stream",
     "text": [
      "      object_id   funded_at  raised_amount raised_currency_code  \\\n",
      "32153    c:1705  2000-01-01            0.0                  USD   \n",
      "10036   c:34402  2000-01-01      3000000.0                  USD   \n",
      "6276    c:19586  2000-01-01      2000000.0                  USD   \n",
      "21169   c:67397  2000-01-01      2000000.0                  USD   \n",
      "4355     c:9009  2000-01-01      1350000.0                  EUR   \n",
      "\n",
      "                created_at  \n",
      "32153  2012-10-29 23:02:59  \n",
      "10036  2009-10-22 22:24:21  \n",
      "6276   2009-03-03 09:28:57  \n",
      "21169  2011-01-29 01:10:37  \n",
      "4355   2008-07-31 08:00:34  \n"
     ]
    },
    {
     "name": "stderr",
     "output_type": "stream",
     "text": [
      "C:\\Users\\josem\\AppData\\Local\\Temp\\ipykernel_29108\\2215071953.py:2: UserWarning: Boolean Series key will be reindexed to match DataFrame index.\n",
      "  funds_less10M = funds_less10M[start_ups_2000].sort_values(by='funded_at',ascending=True)\n"
     ]
    }
   ],
   "source": [
    "#Filtering df with serie\n",
    "funds_less10M = funds_less10M[start_ups_2000].sort_values(by='funded_at',ascending=True)\n",
    "\n",
    "print(funds_less10M.head())"
   ]
  },
  {
   "cell_type": "markdown",
   "metadata": {},
   "source": [
    "### 11. Visualize the amount obtained explained by the currency type on the dataset filtered by date."
   ]
  },
  {
   "cell_type": "code",
   "execution_count": 41,
   "metadata": {},
   "outputs": [],
   "source": [
    "import matplotlib.pyplot as plt"
   ]
  },
  {
   "cell_type": "code",
   "execution_count": 42,
   "metadata": {},
   "outputs": [
    {
     "data": {
      "image/png": "[encoded data removed]",
      "text/plain": [
       "<Figure size 640x480 with 1 Axes>"
      ]
     },
     "metadata": {},
     "output_type": "display_data"
    }
   ],
   "source": [
    "sns.barplot(data=funds_less10M, x='raised_currency_code',y='raised_amount',errorbar=None)\n",
    "plt.title('Raised Amount per Currency')\n",
    "plt.show()"
   ]
  }
 ],
 "metadata": {
  "kernelspec": {
   "display_name": "Python 3",
   "language": "python",
   "name": "python3"
  },
  "language_info": {
   "codemirror_mode": {
    "name": "ipython",
    "version": 3
   },
   "file_extension": ".py",
   "mimetype": "text/x-python",
   "name": "python",
   "nbconvert_exporter": "python",
   "pygments_lexer": "ipython3",
   "version": "3.12.3"
  }
 },
 "nbformat": 4,
 "nbformat_minor": 2
}
